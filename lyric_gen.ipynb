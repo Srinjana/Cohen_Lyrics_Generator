{
  "nbformat": 4,
  "nbformat_minor": 0,
  "metadata": {
    "colab": {
      "name": "lyric_gen.ipynb",
      "provenance": [],
      "collapsed_sections": [],
      "authorship_tag": "ABX9TyPhuKZASduvZy8utvTfDTX1",
      "include_colab_link": true
    },
    "kernelspec": {
      "name": "python3",
      "display_name": "Python 3"
    },
    "language_info": {
      "name": "python"
    }
  },
  "cells": [
    {
      "cell_type": "markdown",
      "metadata": {
        "id": "view-in-github",
        "colab_type": "text"
      },
      "source": [
        "<a href=\"https://colab.research.google.com/github/Srinjana/Cohen_Lyrics_Generator/blob/master/lyric_gen.ipynb\" target=\"_parent\"><img src=\"https://colab.research.google.com/assets/colab-badge.svg\" alt=\"Open In Colab\"/></a>"
      ]
    },
    {
      "cell_type": "code",
      "metadata": {
        "id": "XQj_kbXIJVnf"
      },
      "source": [
        "# Traininng a Neural Network to generate new Leonard Cohen ❤ Lyrics using Recurrent Neural Networks.\n",
        "# Uses Long Short term Memory (LSTM) to predict the next probable word based on previous trends and vice versa.\n",
        "#we use a bidirectional LSTM on the training corpus to achieve required results.\n",
        "#author = Srinjana Pathak"
      ],
      "execution_count": 14,
      "outputs": []
    },
    {
      "cell_type": "code",
      "metadata": {
        "id": "-qrLEEiDMn4A"
      },
      "source": [
        "#IMPORTING NECESSARY PACKAGES\n",
        "\n",
        "import tensorflow as tf\n",
        "import numpy as np\n",
        "\n",
        "from tensorflow.keras.preprocessing.text import Tokenizer\n",
        "from tensorflow.keras.preprocessing.sequence import pad_sequences\n",
        "from tensorflow.keras.models import Sequential\n",
        "from tensorflow.keras.optimizers import Adam\n",
        "from tensorflow.keras.layers import Embedding, LSTM, Dense, Bidirectional"
      ],
      "execution_count": 2,
      "outputs": []
    },
    {
      "cell_type": "code",
      "metadata": {
        "id": "pi64UgayMwF6"
      },
      "source": [
        "#READING THE INPUT DATASET\n",
        "\n",
        "data = open('leonard_cohen.txt').read()\n",
        "corpus = data.lower().split(\"\\n\")"
      ],
      "execution_count": 3,
      "outputs": []
    },
    {
      "cell_type": "code",
      "metadata": {
        "id": "FswqItZRM0K0"
      },
      "source": [
        "#PREPROCESSING\n",
        "\n",
        "tokenizer = Tokenizer()\n",
        "\n",
        "tokenizer.fit_on_texts(corpus)\n",
        "total_words = len(tokenizer.word_index) + 1   #adding 1 for oov token\n",
        "\n",
        "print(tokenizer.word_index)\n",
        "print(total_words)\n"
      ],
      "execution_count": null,
      "outputs": []
    },
    {
      "cell_type": "code",
      "metadata": {
        "id": "-b8cWSjFM7dl"
      },
      "source": [
        "#CREATING TRAINING DATA\n",
        "\n",
        "input_sequences = []\n",
        "\n",
        "for line in corpus:\n",
        "  \n",
        "    #creating list of tokens for every line in corpus line by line\n",
        "\n",
        "    token_list = tokenizer.texts_to_sequences([line])[0]\n",
        "\n",
        "    #generating n-grams (\"you see these, this is what comes next\" word by word)\n",
        "\n",
        "    for i in range(1, len(token_list)):\n",
        "        n_gram_sequence = token_list[:i+1]\n",
        "        input_sequences.append(n_gram_sequence)\n",
        "    "
      ],
      "execution_count": 5,
      "outputs": []
    },
    {
      "cell_type": "code",
      "metadata": {
        "id": "yJKk4BX7NBFM"
      },
      "source": [
        "#PADDING SEQUENCES\n",
        "max_sequence_len = max([len(x) for x in input_sequences]) \n",
        "input_sequences = np.array(pad_sequences(input_sequences, maxlen = max_sequence_len, padding = 'pre')) "
      ],
      "execution_count": 6,
      "outputs": []
    },
    {
      "cell_type": "code",
      "metadata": {
        "id": "vWVs4wC8NHJ2"
      },
      "source": [
        "#ADDING FEATURES AND LABELS.\n",
        "\n",
        "#in the padded sequences everything but the last value is an x and the last value foms the label y.\n",
        "#E.g. [0 0 0 0 0 3 4 5]  {5 is a label and everything else is under x(feature)}\n",
        "\n",
        "xs = input_sequences[:,:-1]\n",
        "labels = input_sequences[:,-1]\n",
        "\n",
        "#converts class vector(labels) to a binary class matrix\n",
        "\n",
        "ys = tf.keras.utils.to_categorical(labels, num_classes = total_words)"
      ],
      "execution_count": 7,
      "outputs": []
    },
    {
      "cell_type": "code",
      "metadata": {
        "id": "9GGp7m9GNa-c"
      },
      "source": [
        "#TRAINING THE NEURAL NETWORK\n",
        "model = Sequential()\n",
        "model.add(Embedding(total_words, 240, input_length = max_sequence_len - 1))\n",
        "model.add(Bidirectional(LSTM(150)))\n",
        "model.add(Dense(total_words, activation = 'softmax'))\n",
        "adam = Adam(learning_rate=0.01)\n",
        "model.compile(loss='categorical_crossentropy', optimizer= adam, metrics=['accuracy'])\n",
        "history = model.fit(xs, ys, epochs = 100, verbose=1)"
      ],
      "execution_count": null,
      "outputs": []
    },
    {
      "cell_type": "code",
      "metadata": {
        "colab": {
          "base_uri": "https://localhost:8080/",
          "height": 295
        },
        "id": "41yE1IwfNf0p",
        "outputId": "4d20249a-6f85-46df-f3e1-23e936f9d181"
      },
      "source": [
        "#Checking Accuracy (HOUSE-KEEPING)\n",
        "\n",
        "import matplotlib.pyplot as plt\n",
        "\n",
        "def plot_graphs(history, string):\n",
        "    plt.plot(history.history[string])\n",
        "    plt.xlabel(\"Epochs\")\n",
        "    plt.ylabel(string)\n",
        "    plt.title(\"Accuracy Index\")\n",
        "    plt.show()\n",
        "\n",
        "plot_graphs(history, 'accuracy')"
      ],
      "execution_count": 11,
      "outputs": [
        {
          "output_type": "display_data",
          "data": {
            "image/png": "[encoded data removed]",
            "text/plain": [
              "<Figure size 432x288 with 1 Axes>"
            ]
          },
          "metadata": {
            "tags": [],
            "needs_background": "light"
          }
        }
      ]
    },
    {
      "cell_type": "code",
      "metadata": {
        "colab": {
          "base_uri": "https://localhost:8080/"
        },
        "id": "oRmdP9g1Npv-",
        "outputId": "bfef36e9-730b-42ce-d23a-b6615788881a"
      },
      "source": [
        "#GENERATING NEW TEXT\n",
        "\n",
        "#seed_text = input()\n",
        "#ideally the seed_text should be user input, it's cute, but this sppeds things up a bit.\n",
        "\n",
        "seed_text = 'You were my reason'\n",
        "next_words = 100\n",
        "\n",
        "for _ in range(next_words):\n",
        "    token_list = tokenizer.texts_to_sequences([seed_text])[0]\n",
        "    token_list = pad_sequences([token_list], maxlen= max_sequence_len - 1, padding = 'pre')\n",
        "    predicted = model.predict_classes(token_list, verbose = 0)\n",
        "    output_word = \"\"\n",
        "    for word, index in tokenizer.word_index.items():\n",
        "        if index == predicted:\n",
        "            output_word = word\n",
        "            break\n",
        "    seed_text += \" \" + output_word\n",
        "print(seed_text)"
      ],
      "execution_count": 15,
      "outputs": [
        {
          "output_type": "stream",
          "text": [
            "/usr/local/lib/python3.7/dist-packages/tensorflow/python/keras/engine/sequential.py:455: UserWarning: `model.predict_classes()` is deprecated and will be removed after 2021-01-01. Please use instead:* `np.argmax(model.predict(x), axis=-1)`,   if your model does multi-class classification   (e.g. if it uses a `softmax` last-layer activation).* `(model.predict(x) > 0.5).astype(\"int32\")`,   if your model does binary classification   (e.g. if it uses a `sigmoid` last-layer activation).\n",
            "  warnings.warn('`model.predict_classes()` is deprecated and '\n"
          ],
          "name": "stderr"
        },
        {
          "output_type": "stream",
          "text": [
            "You were my reason it was before it was before it was before going to do my lip you're all to the last you're of song i know it was trouble an altar shivering shivering around into into his skin of us turned well on go crazy our kisses too became been dying spark sand eye around from her mirror twin soon every night that strong soon must be back on again about on the before soon be sailors into his fiery flare and her eye around school disregard her mirror and death by surprise them here car has been working out of world\n"
          ],
          "name": "stdout"
        }
      ]
    }
  ]
}