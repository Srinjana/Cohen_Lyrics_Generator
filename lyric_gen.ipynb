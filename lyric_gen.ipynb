{
  "nbformat": 4,
  "nbformat_minor": 0,
  "metadata": {
    "colab": {
      "name": "lyric_gen.ipynb",
      "provenance": [],
      "collapsed_sections": []
    },
    "kernelspec": {
      "name": "python3",
      "display_name": "Python 3"
    },
    "language_info": {
      "name": "python"
    }
  },
  "cells": [
    {
      "cell_type": "code",
      "metadata": {
        "colab": {
          "base_uri": "https://localhost:8080/",
          "height": 128
        },
        "id": "XQj_kbXIJVnf",
        "outputId": "c642fa19-2e9b-474d-9d8f-a285cb7fda15"
      },
      "source": [
        "# Traininng a Neural Network to generate new Leonard Cohen ❤ Lyrics using Recurrent Neural Networks.\n",
        "# Uses Long Short term Memory (LSTM) to predict the next probable word based on previous trends and vice versa.\n",
        "#we use a bidirectional LSTM on the training corpus to achieve required results.\n",
        "#author = Srinjana Pathak"
      ],
      "execution_count": 1,
      "outputs": [
        {
          "output_type": "error",
          "ename": "SyntaxError",
          "evalue": "ignored",
          "traceback": [
            "\u001b[0;36m  File \u001b[0;32m\"<ipython-input-1-0c2e3e78c1d2>\"\u001b[0;36m, line \u001b[0;32m4\u001b[0m\n\u001b[0;31m    @author = Srinjana Pathak\u001b[0m\n\u001b[0m            ^\u001b[0m\n\u001b[0;31mSyntaxError\u001b[0m\u001b[0;31m:\u001b[0m invalid syntax\n"
          ]
        }
      ]
    },
    {
      "cell_type": "code",
      "metadata": {
        "id": "-qrLEEiDMn4A"
      },
      "source": [
        "#IMPORTING NECESSARY PACKAGES\n",
        "\n",
        "import tensorflow as tf\n",
        "import numpy as np\n",
        "\n",
        "from tensorflow.keras.preprocessing.text import Tokenizer\n",
        "from tensorflow.keras.preprocessing.sequence import pad_sequences\n",
        "from tensorflow.keras.models import Sequential\n",
        "from tensorflow.keras.optimizers import Adam\n",
        "from tensorflow.keras.layers import Embedding, LSTM, Dense, Bidirectional"
      ],
      "execution_count": 2,
      "outputs": []
    },
    {
      "cell_type": "code",
      "metadata": {
        "id": "pi64UgayMwF6"
      },
      "source": [
        "#READING THE INPUT DATASET\n",
        "\n",
        "data = open('leonard_cohen.txt').read()\n",
        "corpus = data.lower().split(\"\\n\")"
      ],
      "execution_count": 3,
      "outputs": []
    },
    {
      "cell_type": "code",
      "metadata": {
        "colab": {
          "base_uri": "https://localhost:8080/"
        },
        "id": "FswqItZRM0K0",
        "outputId": "4ba7b6aa-9545-4733-9d96-feeeea940821"
      },
      "source": [
        "#PREPROCESSING\n",
        "\n",
        "tokenizer = Tokenizer()\n",
        "\n",
        "tokenizer.fit_on_texts(corpus)\n",
        "total_words = len(tokenizer.word_index) + 1   #adding 1 for oov token\n",
        "\n",
        "print(tokenizer.word_index)\n",
        "print(total_words)\n"
      ],
      "execution_count": 4,
      "outputs": [
        {
          "output_type": "stream",
          "text": [
            "{'the': 1, 'i': 2, 'you': 3, 'and': 4, 'to': 5, 'a': 6, 'of': 7, 'me': 8, 'your': 9, 'in': 10, 'my': 11, 'that': 12, 'it': 13, 'for': 14, 'was': 15, 'on': 16, 'is': 17, 'but': 18, 'love': 19, \"i'm\": 20, \"it's\": 21, 'like': 22, 'with': 23, 'all': 24, 'they': 25, 'be': 26, 'he': 27, 'knows': 28, 'there': 29, 'this': 30, 'when': 31, 'no': 32, 'lover': 33, 'everybody': 34, 'if': 35, 'who': 36, 'so': 37, 'not': 38, 'we': 39, 'are': 40, \"don't\": 41, 'by': 42, 'know': 43, 'what': 44, 'just': 45, 'now': 46, 'from': 47, 'her': 48, 'will': 49, 'one': 50, 'come': 51, 'hallelujah': 52, 'time': 53, 'dance': 54, 'need': 55, 'got': 56, 'do': 57, 'said': 58, 'through': 59, 'want': 60, 'have': 61, 'see': 62, 'were': 63, 'oh': 64, 'night': 65, 'go': 66, 'then': 67, 'back': 68, 'never': 69, 'say': 70, 'or': 71, 'she': 72, 'his': 73, 'where': 74, 'heart': 75, \"you're\": 76, \"i've\": 77, 'tell': 78, 'take': 79, \"there's\": 80, \"that's\": 81, 'again': 82, 'up': 83, 'life': 84, 'been': 85, \"can't\": 86, 'repent': 87, 'la': 88, 'had': 89, 'let': 90, 'going': 91, 'coming': 92, 'man': 93, 'can': 94, 'way': 95, 'how': 96, 'at': 97, 'as': 98, 'left': 99, 'well': 100, 'long': 101, 'closing': 102, 'nothing': 103, 'every': 104, 'still': 105, 'light': 106, 'down': 107, 'war': 108, 'loved': 109, 'baby': 110, \"we're\": 111, 'us': 112, 'some': 113, 'day': 114, 'much': 115, 'place': 116, 'why': 117, 'only': 118, 'little': 119, 'even': 120, \"you've\": 121, 'our': 122, 'home': 123, 'would': 124, 'has': 125, 'ever': 126, 'could': 127, 'their': 128, 'end': 129, 'forget': 130, \"ain't\": 131, 'waltz': 132, 'while': 133, 'lost': 134, 'get': 135, \"i'll\": 136, 'song': 137, 'an': 138, 'ring': 139, 'deep': 140, 'cure': 141, 'broken': 142, 'ah': 143, 'old': 144, 'here': 145, 'more': 146, 'too': 147, 'secret': 148, 'did': 149, 'before': 150, 'give': 151, 'last': 152, 'away': 153, 'goes': 154, 'told': 155, 'truth': 156, 'though': 157, 'body': 158, 'live': 159, 'gone': 160, 'must': 161, 'yes': 162, 'thought': 163, 'them': 164, 'show': 165, 'very': 166, 'kisses': 167, 'cry': 168, 'came': 169, 'its': 170, \"didn't\": 171, 'hear': 172, 'him': 173, 'out': 174, 'over': 175, 'fine': 176, 'waiting': 177, 'those': 178, 'beauty': 179, 'right': 180, \"i'd\": 181, 'make': 182, 'heard': 183, 'many': 184, 'into': 185, 'behind': 186, 'between': 187, 'amen': 188, 'really': 189, 'holy': 190, 'crazy': 191, 'men': 192, 'hand': 193, 'world': 194, 'thousand': 195, 'wonder': 196, 'saw': 197, 'name': 198, 'always': 199, 'knew': 200, 'without': 201, 'moving': 202, 'woman': 203, 'passing': 204, 'try': 205, 'these': 206, 'remember': 207, 'miracle': 208, 'morning': 209, \"they're\": 210, 'laugh': 211, 'alone': 212, 'wine': 213, 'hold': 214, 'taking': 215, 'seen': 216, 'wind': 217, 'singing': 218, 'healing': 219, 'hair': 220, 'feel': 221, 'free': 222, 'things': 223, 'crack': 224, 'everything': 225, \"won't\": 226, 'used': 227, 'eyes': 228, 'another': 229, 'something': 230, 'meant': 231, 'better': 232, 'month': 233, \"who's\": 234, 'turned': 235, 'year': 236, 'which': 237, 'river': 238, \"she's\": 239, 'travel': 240, 'mind': 241, 'tower': 242, \"he's\": 243, 'two': 244, 'naked': 245, 'above': 246, 'sometimes': 247, \"let's\": 248, 'goodbye': 249, 'sleep': 250, 'once': 251, 'hineni': 252, 'first': 253, 'am': 254, 'nevermind': 255, 'sail': 256, 'tried': 257, 'perfect': 258, 'look': 259, 'children': 260, 'past': 261, 'burning': 262, 'late': 263, 'leave': 264, 'kind': 265, 'dark': 266, 'turn': 267, 'room': 268, 'soul': 269, 'liked': 270, 'slow': 271, 'real': 272, 'keep': 273, 'guess': 274, 'since': 275, 'cannot': 276, 'o': 277, 'fall': 278, 'lift': 279, 'gets': 280, 'touched': 281, 'upon': 282, 'open': 283, 'beneath': 284, 'shelter': 285, 'torn': 286, 'yeah': 287, 'caught': 288, 'high': 289, 'window': 290, 'about': 291, 'sorrow': 292, 'play': 293, 'soon': 294, 'made': 295, 'kill': 296, 'change': 297, 'happened': 298, 'save': 299, 'alexandra': 300, 'lord': 301, 'touch': 302, 'wrong': 303, 'forever': 304, 'lonely': 305, 'sea': 306, 'shall': 307, \"you'll\": 308, 'people': 309, 'done': 310, 'fast': 311, 'side': 312, 'new': 313, 'sweet': 314, 'street': 315, 'speak': 316, 'find': 317, 'stranger': 318, 'other': 319, 'guided': 320, 'spirit': 321, 'moon': 322, 'women': 323, 'voice': 324, 'store': 325, \"we'll\": 326, 'call': 327, 'treaty': 328, 'took': 329, 'word': 330, 'stand': 331, 'think': 332, 'leaning': 333, 'crossed': 334, 'good': 335, 'poor': 336, 'talking': 337, 'gonna': 338, 'bed': 339, 'cross': 340, 'babylon': 341, 'run': 342, 'places': 343, 'began': 344, 'cold': 345, 'blood': 346, 'any': 347, 'game': 348, 'around': 349, 'berlin': 350, 'smile': 351, 'than': 352, 'mine': 353, 'may': 354, 'running': 355, 'steer': 356, 'arms': 357, 'hundred': 358, 'happens': 359, 'needs': 360, 'flowing': 361, 'darkness': 362, 'leaving': 363, 'traveling': 364, 'care': 365, 'music': 366, \"doesn't\": 367, 'trust': 368, 'walked': 369, 'until': 370, 'maybe': 371, 'sun': 372, 'rich': 373, 'father': 374, 'died': 375, 'meet': 376, 'line': 377, 'deal': 378, 'apart': 379, 'wedding': 380, 'both': 381, 'called': 382, 'hate': 383, 'blue': 384, 'snow': 385, 'die': 386, 'held': 387, 'such': 388, 'chains': 389, 'm': 390, 'dancing': 391, 'against': 392, 'hard': 393, 'tired': 394, 'shoulder': 395, 'choose': 396, 'living': 397, 'blizzard': 398, 'fallen': 399, 'making': 400, 'thinking': 401, 'because': 402, 'lullaby': 403, 'station': 404, 'partner': 405, 'bright': 406, 'tear': 407, 'whose': 408, 'death': 409, 'devil': 410, 'thanks': 411, 'friends': 412, 'three': 413, 'rivers': 414, 'drink': 415, 'few': 416, 'table': 417, 'dust': 418, 'usa': 419, 'saying': 420, 'guests': 421, \"here's\": 422, 'broke': 423, 'cut': 424, \"wasn't\": 425, 'went': 426, 'suzanne': 427, 'takes': 428, 'mean': 429, 'blind': 430, 'water': 431, 'sky': 432, 'almost': 433, 'wisdom': 434, 'stone': 435, 'among': 436, 'wants': 437, 'clothes': 438, 'trouble': 439, 'violin': 440, 'born': 441, 'hill': 442, 'getting': 443, 'rain': 444, 'white': 445, 'road': 446, 'start': 447, 'bells': 448, 'marianne': 449, 'angels': 450, 'young': 451, 'standing': 452, 'brave': 453, 'lie': 454, 'years': 455, 'eye': 456, 'hope': 457, 'ask': 458, 'gave': 459, 'surrender': 460, \"he'll\": 461, 'burden': 462, 'close': 463, 'please': 464, 'slide': 465, 'ready': 466, 'tight': 467, 'god': 468, 'trying': 469, 'darker': 470, 'manhattan': 471, 'begin': 472, 'wear': 473, 'child': 474, \"darlin'\": 475, 'sing': 476, 'carry': 477, \"you'd\": 478, \"we've\": 479, \"tho'\": 480, 'drinking': 481, 'angel': 482, 'face': 483, 'off': 484, 'crying': 485, 'mercy': 486, 'cup': 487, 'evening': 488, 'view': 489, 'tonight': 490, 'democracy': 491, 'times': 492, 'wish': 493, 'tennessee': 494, 'sounded': 495, 'faith': 496, 'strong': 497, 'matter': 498, 'best': 499, 'fool': 500, 'himself': 501, 'wearing': 502, 'lady': 503, 'mirror': 504, 'fight': 505, 'fixed': 506, 'stay': 507, 'black': 508, 'dead': 509, 'bloody': 510, 'panic': 511, 'talk': 512, 'green': 513, 'beside': 514, 'golden': 515, 'soft': 516, 'hey': 517, 'looking': 518, 's': 519, 'working': 520, 'across': 521, 't': 522, 'cheek': 523, 'playing': 524, 'door': 525, 'dealer': 526, 'wild': 527, 'highway': 528, 'smoke': 529, 'tomorrow': 530, 'comes': 531, 'order': 532, 'wall': 533, 'rise': 534, 'clear': 535, \"dancin'\": 536, 'seem': 537, 'dying': 538, 'win': 539, 'lose': 540, 'hearts': 541, 'blessed': 542, 'wrecked': 543, 'freedom': 544, 'vision': 545, 'wore': 546, 'write': 547, 'suffering': 548, 'help': 549, 'heavens': 550, 'fire': 551, 'own': 552, 'inside': 553, 'dream': 554, 'taken': 555, 'found': 556, 'hell': 557, 'pay': 558, 'kiss': 559, 'gates': 560, 'lights': 561, 'house': 562, 'often': 563, 'je': 564, \"j'ai\": 565, 'au': 566, 'loving': 567, 'wide': 568, 'chelsea': 569, 'hotel': 570, 'head': 571, \"they'll\": 572, 'bernadette': 573, 'whom': 574, 'weep': 575, 'beautiful': 576, 'horror': 577, 'trees': 578, 'should': 579, 'put': 580, 'lived': 581, 'slave': 582, 'seemed': 583, 'played': 584, 'tied': 585, 'kitchen': 586, 'lips': 587, \"what's\": 588, \"couldn't\": 589, 'tongue': 590, 'half': 591, 'answer': 592, 'watching': 593, 'human': 594, 'leads': 595, 'rags': 596, 'fingers': 597, 'feeling': 598, 'rose': 599, 'shining': 600, 'till': 601, 'gathered': 602, 'safely': 603, 'dove': 604, 'pray': 605, 'yet': 606, 'wars': 607, 'offering': 608, 'asked': 609, 'crowd': 610, \"they've\": 611, 'summoned': 612, 'darling': 613, 'met': 614, 'pretty': 615, 'changed': 616, 'warm': 617, 'feels': 618, 'cheap': 619, 'skin': 620, 'book': 621, 'saved': 622, 'swear': 623, 'true': 624, 'joseph': 625, 'manger': 626, 'sure': 627, 'after': 628, 'sleeping': 629, 'sex': 630, 'tree': 631, 'future': 632, 'brother': 633, 'murder': 634, 'measure': 635, 'anymore': 636, 'stop': 637, 'covered': 638, 'christ': 639, 'miss': 640, 'looked': 641, 'does': 642, 'catch': 643, 'breath': 644, 'defeat': 645, 'forgot': 646, \"isn't\": 647, 'words': 648, 'costume': 649, 'shame': 650, 'flame': 651, 'work': 652, 'thin': 653, 'anything': 654, 'inch': 655, 'flood': 656, 'yours': 657, 'pride': 658, 'says': 659, 'hide': 660, 'hymn': 661, 'thou': 662, 'fiddler': 663, 'stops': 664, 'mighty': 665, 'sigh': 666, 'hungry': 667, 'declaring': 668, 'busted': 669, 'blinding': 670, 'york': 671, 'blowing': 672, 'graves': 673, 'et': 674, 'un': 675, 'pays': 676, 'choice': 677, 'beyond': 678, 'sorry': 679, 'speaking': 680, 'money': 681, 'flesh': 682, 'lives': 683, 'grace': 684, 'far': 685, 'clean': 686, 'sober': 687, 'limb': 688, 'someone': 689, 'friend': 690, 'star': 691, 'today': 692, 'follow': 693, 'hearted': 694, 'kidding': 695, 'baffled': 696, 'moonlight': 697, 'chair': 698, 'near': 699, 'jesus': 700, 'spent': 701, 'wooden': 702, 'certain': 703, 'forsaken': 704, 'garbage': 705, 'flowers': 706, 'guys': 707, 'dog': 708, 'stem': 709, 'faithful': 710, 'rotten': 711, 'ribbons': 712, 'scene': 713, 'calvary': 714, 'slowly': 715, 'limits': 716, 'raise': 717, 'happy': 718, 'glad': 719, 'fought': 720, 'bought': 721, 'sold': 722, 'signs': 723, 'sent': 724, 'read': 725, 'park': 726, 'whole': 727, 'storm': 728, 'city': 729, 'smiled': 730, 'walk': 731, 'd': 732, 'next': 733, 'opened': 734, 'heat': 735, 'band': 736, 'twice': 737, 'beast': 738, 'beggar': 739, 'anyone': 740, 'trains': 741, 'lay': 742, 'giving': 743, 'sit': 744, 'makes': 745, 'understand': 746, 'endless': 747, 'later': 748, 'control': 749, 'directions': 750, 'threshold': 751, 'overturned': 752, 'heaven': 753, 'riding': 754, \"there'll\": 755, 'ancient': 756, 'angry': 757, 'nobody': 758, 'thank': 759, 'momma': 760, 'starting': 761, 'flies': 762, 'slip': 763, 'masterpiece': 764, 'promises': 765, 'wretched': 766, 'gather': 767, 'complete': 768, 'except': 769, 'welcome': 770, 'sometime': 771, 'curtain': 772, 'lame': 773, 'glory': 774, 'thy': 775, 'frame': 776, 'million': 777, \"story's\": 778, 'written': 779, 'within': 780, 'might': 781, 'nights': 782, 'ha': 783, 'brought': 784, \"father's\": 785, 'calling': 786, 'greed': 787, 'solitude': 788, 'begging': 789, 'moment': 790, 'sand': 791, \"takin'\": 792, 'fun': 793, 'vienna': 794, 'filled': 795, 'mouth': 796, 'bar': 797, 'boys': 798, 'hurt': 799, 'believe': 800, 'crumb': 801, 'most': 802, 'married': 803, 'news': 804, 'looks': 805, 'whither': 806, 'blouses': 807, 'polka': 808, 'dots': 809, 'summer': 810, 'budged': 811, 'glass': 812, 'reveal': 813, 'family': 814, 'lovers': 815, 'screen': 816, 'ruins': 817, 'wake': 818, 'spill': 819, 'desert': 820, 'jane': 821, 'lock': 822, 'wife': 823, 'kept': 824, 'whisper': 825, 'mon': 826, 'il': 827, 'temple': 828, 'pure': 829, 'des': 830, 'country': 831, 'full': 832, 'lot': 833, 'easy': 834, 'pretend': 835, 'track': 836, 'wait': 837, 'reasons': 838, 'workers': 839, 'threw': 840, 'enough': 841, 'queen': 842, 'believed': 843, 'rest': 844, 'signed': 845, 'lies': 846, 'dies': 847, 'stones': 848, 'names': 849, 'failed': 850, 'silence': 851, 'hopeless': 852, 'manic': 853, 'manicouagan': 854, 'myself': 855, 'become': 856, 'guitar': 857, 'restored': 858, 'fragrance': 859, 'ought': 860, 'medal': 861, 'letting': 862, 'penitential': 863, 'longing': 864, 'altar': 865, 'joan': 866, 'arc': 867, 'dress': 868, 'outside': 869, 'ok': 870, 'felt': 871, 'ones': 872, 'goodnight': 873, 'moments': 874, 'hunting': 875, 'deeper': 876, 'became': 877, 'tongues': 878, 'joined': 879, 'chord': 880, 'david': 881, 'pleased': 882, 'fourth': 883, 'fifth': 884, 'minor': 885, 'major': 886, 'king': 887, 'composing': 888, 'needed': 889, 'proof': 890, 'bathing': 891, 'roof': 892, 'overthrew': 893, 'throne': 894, 'drew': 895, 'vain': 896, 'blaze': 897, 'boats': 898, 'spend': 899, 'feeds': 900, 'tea': 901, 'oranges': 902, 'china': 903, 'wavelength': 904, 'lets': 905, 'sailor': 906, 'drowning': 907, 'sailors': 908, 'sank': 909, 'feathers': 910, 'salvation': 911, 'army': 912, 'counters': 913, 'pours': 914, 'honey': 915, 'harbor': 916, 'shows': 917, 'heroes': 918, 'seaweed': 919, 'wil': 920, 'lean': 921, 'holds': 922, 'dice': 923, 'loaded': 924, 'rolls': 925, 'boat': 926, 'leaking': 927, 'captain': 928, 'lied': 929, 'pockets': 930, 'box': 931, 'chocolates': 932, 'discreet': 933, \"joe's\": 934, \"pickin'\": 935, 'cotton': 936, 'bows': 937, 'plague': 938, 'artifact': 939, 'meter': 940, 'disclose': 941, 'top': 942, 'beach': 943, 'malibu': 944, 'sacred': 945, 'blows': 946, 'olive': 947, 'branch': 948, 'homeward': 949, 'witnesses': 950, 'tenderly': 951, 'asking': 952, 'curtains': 953, 'outworn': 954, 'tent': 955, 'thread': 956, 'glove': 957, 'ran': 958, 'garden': 959, 'shivering': 960, 'suffer': 961, 'sang': 962, 'break': 963, 'passed': 964, 'lawless': 965, 'parts': 966, 'strike': 967, 'drum': 968, 'gypsy': 969, 'lilac': 970, 'crucifix': 971, 'hidden': 972, 'climbed': 973, 'pillow': 974, 'sleepy': 975, 'forest': 976, 'untie': 977, 'kin': 978, 'lily': 979, 'snowman': 980, 'sleet': 981, 'frozen': 982, 'secondhand': 983, 'physique': 984, 'cheat': 985, 'kneel': 986, 'moved': 987, 'doesn': 988, 'anyhow': 989, 'bird': 990, 'wire': 991, 'drunk': 992, 'midnight': 993, 'choir': 994, 'thee': 995, 'everyone': 996, 'cried': 997, 'reaching': 998, 'sweeping': 999, 'jokers': 1000, 'laughter': 1001, 'card': 1002, 'sill': 1003, 'caused': 1004, 'weaken': 1005, 'warmth': 1006, 'wallet': 1007, 'schedule': 1008, 'dreams': 1009, 'trade': 1010, 'talks': 1011, 'curling': 1012, 'chart': 1013, 'bridge': 1014, 'building': 1015, 'leaves': 1016, 'car': 1017, 'hole': 1018, 'culture': 1019, 'stalin': 1020, 'st': 1021, 'paul': 1022, 'wrote': 1023, \"love's\": 1024, \"devil's\": 1025, 'code': 1026, 'suddenly': 1027, 'fires': 1028, 'hanging': 1029, 'sound': 1030, 'grip': 1031, 'sister': 1032, 'marching': 1033, 'paper': 1034, 'lip': 1035, 'hit': 1036, 'ice': 1037, 'slowing': 1038, 'tune': 1039, 'led': 1040, 'shoe': 1041, 'gun': 1042, 'ponies': 1043, 'girls': 1044, 'odds': 1045, 'beat': 1046, 'winning': 1047, 'streak': 1048, 'invincible': 1049, 'turning': 1050, 'tricks': 1051, 'boogie': 1052, 'meek': 1053, 'confined': 1054, 'quiet': 1055, 'leonard': 1056, 'sportsman': 1057, 'shepherd': 1058, 'lazy': 1059, 'bastard': 1060, 'suit': 1061, 'sacrifice': 1062, 'permission': 1063, 'bidding': 1064, 'healer': 1065, 'thine': 1066, 'magnified': 1067, 'sanctified': 1068, 'vilified': 1069, 'crucified': 1070, 'candles': 1071, 'story': 1072, 'same': 1073, 'blame': 1074, 'scriptures': 1075, 'claim': 1076, 'guards': 1077, 'aim': 1078, 'tame': 1079, 'sentenced': 1080, 'twenty': 1081, 'reward': 1082, 'business': 1083, 'practiced': 1084, 'wounded': 1085, 'trial': 1086, 'merry': 1087, 'decay': 1088, 'blunt': 1089, \"lady's\": 1090, 'command': 1091, 'mask': 1092, 'step': 1093, 'doctor': 1094, 'feet': 1095, \"music's\": 1096, \"sparklin'\": 1097, 'promise': 1098, 'ten': 1099, 'nine': 1100, 'windows': 1101, 'brandy': 1102, 'dragging': 1103, 'tail': 1104, 'stopped': 1105, 'blues': 1106, 'picture': 1107, 'mist': 1108, \"river's\": 1109, 'dew': 1110, 'sounds': 1111, \"haven't\": 1112, 'together': 1113, 'lying': 1114, 'goest': 1115, 'wherever': 1116, '1': 1117, 'happening': 1118, 'companion': 1119, 'relief': 1120, 'struggle': 1121, 'missed': 1122, 'winds': 1123, 'weeds': 1124, 'laughing': 1125, 'damn': 1126, 'boss': 1127, 'dizzy': 1128, 'heights': 1129, 'comfort': 1130, \"who've\": 1131, 'pinned': 1132, 'bind': 1133, 'address': 1134, 'jealous': 1135, \"weren't\": 1136, 'besides': 1137, 'keeps': 1138, 'headlight': 1139, 'thumbnail': 1140, 'scrapes': 1141, 'towns': 1142, 'spoon': 1143, 'wont': 1144, 'unwind': 1145, 'dont': 1146, 'shes': 1147, 'prove': 1148, 'noise': 1149, 'neighbours': 1150, 'locks': 1151, 'share': 1152, 'toast': 1153, 'coffee': 1154, 'theres': 1155, 'loose': 1156, 'awake': 1157, 'record': 1158, 'planned': 1159, 'famous': 1160, 'forgive': 1161, 'stood': 1162, 'enemy': 1163, 'vanished': 1164, 'soldiers': 1165, 'prison': 1166, 'shadows': 1167, 'les': 1168, 'allemands': 1169, 'mais': 1170, 'de': 1171, 'pour': 1172, 'filth': 1173, 'locked': 1174, 'built': 1175, 'shield': 1176, 'parcourait': 1177, 'en': 1178, 'pleurant': 1179, 'travelled': 1180, 'etrangers': 1181, 'foreign': 1182, 'lands': 1183, 'courant': 1184, 'fugitif': 1185, 'fleeing': 1186, 'current': 1187, 'adressa': 1188, 'ces': 1189, 'mots': 1190, 'addressed': 1191, 'si': 1192, 'va': 1193, 'dire': 1194, 'mes': 1195, 'amis': 1196, 'que': 1197, 'souviens': 1198, \"d'eux\": 1199, 'days': 1200, 'ma': 1201, 'patrie': 1202, 'helas': 1203, 'native': 1204, 'land': 1205, 'alas': 1206, 'ne': 1207, 'verrai': 1208, 'plus': 1209, 'praises': 1210, 'contagious': 1211, 'shoulda': 1212, 'cigarette': 1213, 'alcohol': 1214, 'worse': 1215, 'ache': 1216, 'paying': 1217, 'rent': 1218, 'hank': 1219, 'williams': 1220, 'great': 1221, 'grown': 1222, 'bitter': 1223, 'voices': 1224, 'unmade': 1225, 'limousines': 1226, 'heal': 1227, 'rocket': 1228, 'ships': 1229, 'climbing': 1230, 'books': 1231, 'doctors': 1232, 'undo': 1233, 'mostly': 1234, 'breast': 1235, 'disguised': 1236, 'facts': 1237, 'peace': 1238, 'indifference': 1239, 'least': 1240, 'serve': 1241, 'safe': 1242, 'air': 1243, 'exactly': 1244, 'ashes': 1245, 'mount': 1246, 'ship': 1247, 'state': 1248, 'shores': 1249, 'reefs': 1250, 'squalls': 1251, 'thirst': 1252, 'fundamental': 1253, 'bouquet': 1254, 'dawn': 1255, 'reach': 1256, 'pass': 1257, 'loves': 1258, 'listening': 1259, 'hurts': 1260, 'secrets': 1261, 'level': 1262, 'temptation': 1263, 'none': 1264, 'tore': 1265, 'reason': 1266, 'fiery': 1267, 'able': 1268, 'sharp': 1269, 'showed': 1270, 'quit': 1271, 'studied': 1272, 'hardly': 1273, 'each': 1274, 'surely': 1275, 'bare': 1276, 'colder': 1277, 'pleasure': 1278, 'senses': 1279, 'sleeps': 1280, 'satin': 1281, 'wakes': 1282, 'imagined': 1283, 'stoop': 1284, 'strategies': 1285, 'prepared': 1286, 'happen': 1287, 'honor': 1288, 'plan': 1289, 'pick': 1290, 'creation': 1291, 'fields': 1292, 'precious': 1293, 'bend': 1294, 'probably': 1295, 'babe': 1296, 'yourself': 1297, 'ugly': 1298, 'sign': 1299, 'jubilee': 1300, 'ourselves': 1301, 'ghost': 1302, 'snake': 1303, 'introduced': 1304, 'stole': 1305, 'sweetheart': 1306, 'drove': 1307, 'waving': 1308, 'mountain': 1309, 'gold': 1310, 'minute': 1311, 'revoir': 1312, 'somebody': 1313, 'given': 1314, 'roving': 1315, 'outwears': 1316, 'awhile': 1317, 'blunted': 1318, 'mountains': 1319, 'mea': 1320, 'culpa': 1321, 'double': 1322, \"summer's\": 1323, 'chased': 1324, 'souvenir': 1325, 'heartache': 1326, 'braids': 1327, 'blouse': 1328, 'undone': 1329, 'mirrors': 1330, 'nervous': 1331, 'forgotten': 1332, 'roll': 1333, 'move': 1334, 'thing': 1335, 'troubles': 1336, 'shred': 1337, 'particle': 1338, 'hastened': 1339, 'hay': 1340, 'pardon': 1341, 'ate': 1342, 'distance': 1343, 'teach': 1344, 'patience': 1345, 'unsigned': 1346, 'style': 1347, 'arrive': 1348, 'surface': 1349, \"workin'\": 1350, 'steady': 1351, 'art': 1352, 'filthy': 1353, 'shirts': 1354, 'job': 1355, 'ditched': 1356, 'mankind': 1357, 'adam': 1358, 'apple': 1359, 'plant': 1360, 'crops': 1361, 'cane': 1362, 'orphan': 1363, 'washington': 1364, 'valley': 1365, 'ford': 1366, 'franklin': 1367, \"roosevelt's\": 1368, 'yankee': 1369, 'russian': 1370, 'tan': 1371, 'birds': 1372, 'dwell': 1373, 'birth': 1374, 'betrayed': 1375, 'marriage': 1376, 'widowhood': 1377, 'government': 1378, 'killers': 1379, 'prayers': 1380, 'loud': 1381, 'thundercloud': 1382, 'add': 1383, 'sum': 1384, 'march': 1385, 'refugee': 1386, 'palm': 1387, 'boy': 1388, 'kneeling': 1389, 'letters': 1390, 'ledge': 1391, 'spider': 1392, 'web': 1393, 'fastening': 1394, 'ankle': 1395, 'razorblade': 1396, 'curious': 1397, 'mountainside': 1398, 'wash': 1399, 'eyelids': 1400, 'distances': 1401, 'wander': 1402, 'corner': 1403, 'steps': 1404, 'rhyme': 1405, 'stays': 1406, 'changes': 1407, 'shoreline': 1408, 'handled': 1409, 'meat': 1410, 'twin': 1411, 'pose': 1412, 'hot': 1413, 'veils': 1414, 'sheer': 1415, 'deceit': 1416, 'porn': 1417, 'aristocrat': 1418, 'elegant': 1419, 'freeze': 1420, 'autumn': 1421, 'riddle': 1422, 'obscure': 1423, 'obsolete': 1424, 'witnessed': 1425, 'auld': 1426, 'lang': 1427, 'syne': 1428, 'retreat': 1429, 'diz': 1430, 'ray': 1431, 'don': 1432, 'counts': 1433, 'worm': 1434, 'hook': 1435, 'knight': 1436, 'fashioned': 1437, 'unkind': 1438, 'untrue': 1439, 'stillborn': 1440, 'horn': 1441, 'reached': 1442, 'crutch': 1443, 'darkened': 1444, 'dealers': 1445, 'dealing': 1446, 'seems': 1447, 'ignore': 1448, 'arm': 1449, 'dispatching': 1450, 'cards': 1451, 'rusted': 1452, 'elbows': 1453, 'finger': 1454, 'plays': 1455, 'poker': 1456, 'notice': 1457, 'handle': 1458, 'opens': 1459, 'afraid': 1460, \"we'd\": 1461, 'board': 1462, 'speaks': 1463, 'shore': 1464, 'platform': 1465, 'realize': 1466, 'advertising': 1467, 'okay': 1468, 'someplace': 1469, 'mirrored': 1470, 'torture': 1471, 'absolute': 1472, 'anal': 1473, 'stuff': 1474, 'jew': 1475, 'bible': 1476, 'nations': 1477, 'stories': 1478, 'engine': 1479, 'survival': 1480, 'servant': 1481, 'further': 1482, 'wheels': 1483, 'crop': 1484, 'breaking': 1485, 'western': 1486, 'private': 1487, 'explode': 1488, 'phantoms': 1489, 'upside': 1490, 'features': 1491, 'gown': 1492, 'lousy': 1493, 'poets': 1494, 'round': 1495, \"tryin'\": 1496, 'charlie': 1497, 'manson': 1498, 'hiroshima': 1499, 'destroy': 1500, 'fetus': 1501, 'loosen': 1502, 'sight': 1503, 'finally': 1504, 'orders': 1505, 'borders': 1506, 'wanna': 1507, 'cares': 1508, 'either': 1509, 'simple': 1510, 'bite': 1511, 'buy': 1512, 'latest': 1513, 'crowded': 1514, 'lacing': 1515, 'moves': 1516, 'swift': 1517, 'turns': 1518, 'linger': 1519, 'weekend': 1520, 'lifetime': 1521, 'wanted': 1522, 'town': 1523, 'case': 1524, 'miles': 1525, 'drive': 1526, 'ditch': 1527, 'alive': 1528, 'pressed': 1529, 'oceans': 1530, 'scavengers': 1531, 'forward': 1532, 'deck': 1533, 'remnant': 1534, 'fleet': 1535, 'consented': 1536, 'exchange': 1537, 'gifts': 1538, 'file': 1539, 'refuse': 1540, 'sage': 1541, 'brief': 1542, 'elaboration': 1543, 'tube': 1544, 'anthem': 1545, 'forgiving': 1546, 'manual': 1547, 'recovering': 1548, 'instant': 1549, 'repeat': 1550, 'means': 1551, 'paradox': 1552, 'idle': 1553, 'lining': 1554, 'prisoners': 1555, 'struggled': 1556, 'demons': 1557, 'middle': 1558, 'class': 1559, 'maim': 1560, 'boredom': 1561, 'system': 1562, 'signal': 1563, 'birthmark': 1564, 'weapons': 1565, 'loser': 1566, 'worried': 1567, 'discipline': 1568, 'prayed': 1569, 'fashion': 1570, 'mister': 1571, 'drugs': 1572, 'items': 1573, 'monkey': 1574, 'plywood': 1575, 'groceries': 1576, 'ooh': 1577, \"everybody's\": 1578, 'sunshine': 1579, 'ordeal': 1580, 'common': 1581, 'barbiturate': 1582, 'realms': 1583, 'avalanche': 1584, 'powder': 1585, 'hunger': 1586, 'assent': 1587, 'accident': 1588, 'mortal': 1589, 'power': 1590, 'anger': 1591, 'boxer': 1592, 'examine': 1593, 'driver': 1594, 'climb': 1595, 'ride': 1596, \"moon's\": 1597, \"chain's\": 1598, 'knees': 1599, 'crawl': 1600, 'howl': 1601, 'claw': 1602, 'sheet': 1603, 'disappear': 1604, 'guy': 1605, 'gives': 1606, \"'neath\": 1607, 'pale': 1608, \"'till\": 1609, 'asks': 1610, \"'cause\": 1611, 'lobby': 1612, 'doves': 1613, 'piece': 1614, 'hangs': 1615, 'gallery': 1616, 'frost': 1617, 'clamp': 1618, 'jaws': 1619, 'magazine': 1620, 'cave': 1621, 'tip': 1622, 'lilly': 1623, 'hallway': 1624, 'sweating': 1625, 'footsteps': 1626, 'waist': 1627, 'concert': 1628, 'hall': 1629, 'reviews': 1630, 'climbs': 1631, 'garland': 1632, 'freshly': 1633, 'tears': 1634, 'attic': 1635, 'hungarian': 1636, 'lanterns': 1637, 'afternoon': 1638, 'chained': 1639, 'sheep': 1640, 'lillies': 1641, 'disguise': 1642, 'hyacinth': 1643, 'thighs': 1644, 'bury': 1645, 'scrapbook': 1646, 'photographs': 1647, 'moss': 1648, 'yield': 1649, 'pools': 1650, 'wrist': 1651, 'waited': 1652, 'lots': 1653, 'invitations': 1654, 'hands': 1655, 'bugle': 1656, \"wouldn't\": 1657, 'entertainment': 1658, 'judgments': 1659, 'severe': 1660, 'maestro': 1661, 'mozart': 1662, 'bubble': 1663, 'gum': 1664, 'ii': 1665, 'dreamed': 1666, 'sands': 1667, 'falling': 1668, 'thumb': 1669, 'absolutely': 1670, 'doing': 1671, 'course': 1672, 'complain': 1673, 'squeezed': 1674, 'information': 1675, 'dumb': 1676, 'bad': 1677, 'grim': 1678, 'prisoner': 1679, 'jail': 1680, \"pardon's\": 1681, 'mail': 1682, 'wishing': 1683, 'lodgest': 1684, 'lodge': 1685, 'ruth': 1686, 'ch': 1687, 'v': 1688, '16': 1689, 'johnny': 1690, 'walker': 1691, 'compassion': 1692, 'rubbing': 1693, 'thigh': 1694, 'drinker': 1695, 'dancer': 1696, 'lifts': 1697, 'fiddles': 1698, 'sublime': 1699, 'romantic': 1700, \"cider's\": 1701, 'laced': 1702, 'acid': 1703, \"spirit's\": 1704, \"where's\": 1705, 'beef': 1706, 'swimming': 1707, 'fragrant': 1708, 'expectation': 1709, 'stagger': 1710, 'snakes': 1711, 'ladder': 1712, 'hours': 1713, 'chime': 1714, \"body's\": 1715, 'sense': 1716, 'overtime': 1717, 'saturday': 1718, 'fumbling': 1719, 'awful': 1720, 'ears': 1721, 'youth': 1722, 'worth': 1723, 'dime': 1724, 'sisters': 1725, 'departed': 1726, 'travelling': 1727, 'begins': 1728, 'loneliness': 1729, 'sinned': 1730, 'confession': 1731, 'hem': 1732, 'leaf': 1733, 'seasons': 1734, 'condemn': 1735, 'graceful': 1736, 'sweetened': 1737, 'asleep': 1738, 'hes': 1739, 'youve': 1740, 'four': 1741, 'december': 1742, 'writing': 1743, 'clinton': 1744, 'keeping': 1745, 'older': 1746, 'raincoat': 1747, 'train': 1748, 'lili': 1749, 'marlene': 1750, 'treated': 1751, 'flake': 1752, \"nobody's\": 1753, 'teeth': 1754, 'thief': 1755, \"jane's\": 1756, 'sends': 1757, 'regards': 1758, 'killer': 1759, 'possibly': 1760, 'sincerely': 1761, 'l': 1762, 'cohen': 1763, 'poured': 1764, 'border': 1765, 'cautioned': 1766, 'garret': 1767, 'frontiers': 1768, 'ã©taient': 1769, 'chez': 1770, 'moi': 1771, 'ils': 1772, 'dirent': 1773, 'rã©signe': 1774, 'toi': 1775, \"n'ai\": 1776, 'pas': 1777, 'peur': 1778, 'repris': 1779, 'ã¢me': 1780, 'changã©': 1781, 'cent': 1782, 'fois': 1783, 'nom': 1784, 'perdu': 1785, 'femme': 1786, 'enfants': 1787, 'tant': 1788, \"d'amis\": 1789, 'france': 1790, 'entiã¨re': 1791, 'vieil': 1792, 'homme': 1793, 'dans': 1794, 'grenier': 1795, 'nuit': 1796, 'nous': 1797, 'cachã©': 1798, \"l'ont\": 1799, 'pris': 1800, 'est': 1801, 'mort': 1802, 'sans': 1803, 'surprise': 1804, 'using': 1805, 'fear': 1806, 'cowardice': 1807, 'use': 1808, 'weapon': 1809, 'fair': 1810, 'calm': 1811, 'aside': 1812, 'canadien': 1813, 'errant': 1814, 'wandering': 1815, 'canadian': 1816, 'banni': 1817, 'ses': 1818, 'foyers': 1819, 'banned': 1820, 'hearths': 1821, 'jour': 1822, 'triste': 1823, 'pensif': 1824, 'sad': 1825, 'pensive': 1826, 'assis': 1827, 'bord': 1828, 'flots': 1829, 'sitting': 1830, 'waters': 1831, 'tu': 1832, 'vois': 1833, 'malheureux': 1834, 'unhappy': 1835, 'jours': 1836, 'pleins': 1837, \"d'appas\": 1838, 'charms': 1839, 'vous': 1840, 'etes': 1841, 'disparus': 1842, 'abide': 1843, 'spoken': 1844, 'fill': 1845, 'hills': 1846, 'rejoice': 1847, 'draw': 1848, 'dressed': 1849, \"present's\": 1850, 'pleasant': 1851, 'dive': 1852, 'price': 1853, 'taste': 1854, 'rainbow': 1855, 'early': 1856, 'grey': 1857, \"hasn't\": 1858, 'answered': 1859, 'coughing': 1860, 'floors': 1861, 'gift': 1862, 'seven': 1863, 'stick': 1864, 'pins': 1865, 'voodoo': 1866, 'doll': 1867, 'channels': 1868, 'bedrooms': 1869, 'judgment': 1870, 'funny': 1871, 'bridges': 1872, 'bid': 1873, 'farewell': 1874, 'hearing': 1875, 'sweetly': 1876, 'gray': 1877, 'winter': 1878, '67': 1879, 'queer': 1880, 'wound': 1881, 'aching': 1882, 'habit': 1883, 'drug': 1884, 'subway': 1885, 'bus': 1886, 'waking': 1887, 'bracelets': 1888, 'brush': 1889, 'empty': 1890, 'church': 1891, 'else': 1892, 'sweetest': 1893, 'whispered': 1894, 'forgiven': 1895, 'declare': 1896, 'named': 1897, 'ago': 1898, 'sorrows': 1899, 'fly': 1900, 'mend': 1901, 'damage': 1902, 'joy': 1903, 'dug': 1904, 'victory': 1905, 'spoons': 1906, 'knives': 1907, 'games': 1908, 'luck': 1909, 'songs': 1910, 'law': 1911, 'understands': 1912, 'husband': 1913, 'commands': 1914, 'expressions': 1915, 'fate': 1916, 'intimate': 1917, 'survive': 1918, 'despise': 1919, 'swarm': 1920, 'bowl': 1921, 'surprised': 1922, 'layers': 1923, 'divide': 1924, \"woman's\": 1925, 'ghosts': 1926, 'roots': 1927, 'entwined': 1928, 'tiananmen': 1929, 'square': 1930, 'disorder': 1931, 'sirens': 1932, 'homeless': 1933, 'gay': 1934, 'visionary': 1935, 'staggering': 1936, 'account': 1937, 'sermon': 1938, 'dock': 1939, 'bay': 1940, 'bold': 1941, 'battered': 1942, 'chevrolet': 1943, 'races': 1944, 'homicidal': 1945, \"bitchin'\": 1946, 'determine': 1947, 'eat': 1948, 'wells': 1949, 'disappointment': 1950, 'america': 1951, 'cradle': 1952, 'worst': 1953, 'range': 1954, 'machinery': 1955, 'spiritual': 1956, \"family's\": 1957, \"mountain's\": 1958, 'shout': 1959, 'tidal': 1960, 'lunar': 1961, 'sway': 1962, 'imperial': 1963, 'mysterious': 1964, 'amorous': 1965, 'array': 1966, 'sentimental': 1967, 'neither': 1968, 'staying': 1969, 'stubborn': 1970, 'bags': 1971, 'junk': 1972, 'holding': 1973, 'recreate': 1974, 'throw': 1975, 'flower': 1976, 'bee': 1977, 'silken': 1978, 'forehead': 1979, 'velvet': 1980, 'towards': 1981, 'côte': 1982, 'nord': 1983, 'signalling': 1984, 'twilight': 1985, 'trois': 1986, 'rivières': 1987, 'quebec': 1988, 'eveything': 1989, 'montreal': 1990, 'dirty': 1991, 'streets': 1992, 'ugliness': 1993, 'eternal': 1994, 'boast': 1995, 'others': 1996, 'accordion': 1997, \"'i\": 1998, \"you'\": 1999, 'poems': 2000, 'edge': 2001, 'victims': 2002, 'laws': 2003, 'remorse': 2004, 'vengeance': 2005, 'belongs': 2006, 'ransomed': 2007, 'panting': 2008, 'scratching': 2009, 'butcher': 2010, 'washed': 2011, 'lamb': 2012, 'camp': 2013, 'doubt': 2014, 'settle': 2015, 'different': 2016, 'point': 2017, 'fighting': 2018, 'caving': 2019, 'brokenness': 2020, 'bring': 2021, 'dared': 2022, 'vow': 2023, 'splinters': 2024, 'behold': 2025, 'arbitrary': 2026, 'space': 2027, 'deserving': 2028, 'cruelty': 2029, 'yielding': 2030, 'troubled': 2031, 'concealing': 2032, 'undivided': 2033, 'teaching': 2034, 'falter': 2035, 'earth': 2036, 'proclaim': 2037, 'branches': 2038, 'bud': 2039, 'arteries': 2040, 'purify': 2041, 'flames': 2042, 'followed': 2043, 'armour': 2044, 'smoky': 2045, 'swollen': 2046, 'appetite': 2047, 'watched': 2048, 'yearns': 2049, 'lonesome': 2050, 'heroine': 2051, 'sternly': 2052, 'spoke': 2053, 'replied': 2054, 'bride': 2055, 'hung': 2056, 'clearly': 2057, 'understood': 2058, 'wood': 2059, 'wince': 2060, 'cruel': 2061, 'settled': 2062, 'raining': 2063, 'november': 2064, 'lemon': 2065, 'blossom': 2066, 'almond': 2067, 'sick': 2068, 'argument': 2069, 'trip': 2070, 'minds': 2071, 'entrance': 2072, 'wilson': 2073, 'decision': 2074, 'trail': 2075, 'melting': 2076, 'spring': 2077, 'mother': 2078, \"nature's\": 2079, 'trapped': 2080, 'lit': 2081, 'candle': 2082, 'mosquitoes': 2083, 'sleepless': 2084, 'confess': 2085, 'tortured': 2086, 'prescription': 2087, 'mentioned': 2088, 'library': 2089, 'shelf': 2090, 'details': 2091, 'honeymoon': 2092, 'nurse': 2093, 'gotten': 2094, 'practice': 2095, 'ruin': 2096, 'saint': 2097, 'school': 2098, 'taught': 2099, 'duty': 2100, 'tarnish': 2101, 'rule': 2102, 'teachings': 2103, 'drowned': 2104, 'pool': 2105, 'lawn': 2106, 'continues': 2107, 'drool': 2108, 'eskimo': 2109, 'movie': 2110, \"he'd\": 2111, 'recently': 2112, 'suppose': 2113, 'froze': 2114, 'nice': 2115, 'swore': 2116, 'vast': 2117, 'rooms': 2118, 'small': 2119, 'walls': 2120, 'prayer': 2121, 'listen': 2122, 'stair': 2123, 'undressing': 2124, 'memory': 2125, 'preparing': 2126, 'depart': 2127, 'hoisted': 2128, 'sentries': 2129, 'upheld': 2130, 'simplicities': 2131, 'gain': 2132, 'formlessly': 2133, 'entwine': 2134, 'radiant': 2135, 'widest': 2136, 'trick': 2137, 'deceiving': 2138, 'fitful': 2139, 'exhaust': 2140, 'firmly': 2141, 'exquisite': 2142, 'commitments': 2143, 'tangible': 2144, 'occasion': 2145, \"coward's\": 2146, 'explanation': 2147, 'hides': 2148, 'cause': 2149, 'effect': 2150, 'bewildered': 2151, 'meaning': 2152, 'uncrossed': 2153, 'event': 2154, 'tuesday': 2155, 'sonata': 2156, 'backwards': 2157, 'reverse': 2158, 'effects': 2159, 'mad': 2160, 'plunge': 2161, '200': 2162, 'lovely': 2163, 'senile': 2164, 'robins': 2165, 'red': 2166, 'retired': 2167, 'nightingales': 2168, 'dusty': 2169, 'tails': 2170, 'assert': 2171, 'majesty': 2172, 'hurting': 2173, 'shutting': 2174, 'factory': 2175, 'bills': 2176, 'due': 2177, 'under': 2178, 'key': 2179, 'springtime': 2180, 'starts': 2181, 'handing': 2182, 'sentence': 2183, 'mile': 2184, 'envy': 2185, 'instead': 2186, 'jiving': 2187, 'legend': 2188, 'preferred': 2189, 'handsome': 2190, 'exception': 2191, 'clenching': 2192, 'fist': 2193, 'oppressed': 2194, 'figures': 2195, 'suggest': 2196, 'robin': 2197, 'liar': 2198, 'static': 2199, 'ground': 2200, 'aerial': 2201, 'sin': 2202, 'shed': 2203, 'scales': 2204, 'poison': 2205, 'enters': 2206, 'deny': 2207, 'closed': 2208, \"baby's\": 2209, 'satisfied': 2210, 'narrow': 2211, 'stars': 2212, 'unpinned': 2213, 'swallowed': 2214, 'trace': 2215, 'veil': 2216, 'tall': 2217, 'started': 2218, 'walking': 2219, 'axe': 2220, 'smaller': 2221, 'lake': 2222, 'bottle': 2223, 'eagle': 2224, 'vulture': 2225, 'decide': 2226, 'build': 2227, 'altars': 2228, 'scheme': 2229, 'tempted': 2230, 'demon': 2231, 'hatchets': 2232, 'trembling': 2233, 'inquire': 2234, 'according': 2235, 'uniform': 2236, 'peacock': 2237, 'spreads': 2238, 'fan': 2239, 'dreamer': 2240, 'frankie': 2241, 'lane': 2242, 'jezebel': 2243, 'iron': 2244, 'lapel': 2245, 'tallest': 2246, 'blondest': 2247, 'girl': 2248, 'gym': 2249, 'chances': 2250, 'stardust': 2251, 'balloons': 2252, 'streamers': 2253, 'floating': 2254, 'solemn': 2255, 'dedicated': 2256, 'irving': 2257, 'layton': 2258, 'sword': 2259, 'sheath': 2260, 'pause': 2261, 'breathe': 2262, 'itself': 2263, 'returns': 2264, 'wandered': 2265, 'strength': 2266, 'panicked': 2267, 'belonged': 2268, 'struck': 2269, 'deadly': 2270, 'force': 2271, 'ã¢': 2272, \"'\": 2273, 'circled': 2274, 'withered': 2275, 'unsaid': 2276, 'blessing': 2277, \"trav'ling\": 2278, 'soldier': 2279, 'grew': 2280, \"she'd\": 2281, 'weave': 2282, 'loom': 2283, 'breathing': 2284, 'doorway': 2285, 'chose': 2286, 'journey': 2287, 'mall': 2288, 'fables': 2289, 'palaces': 2290, 'rot': 2291, 'yesterday': 2292, 'goodness': 2293, 'path': 2294, 'pain': 2295, 'smashed': 2296, 'cosmic': 2297, 'model': 2298, 'blinded': 2299, 'equal': 2300, 'task': 2301, 'convicted': 2302, 'shot': 2303, 'gradually': 2304, 'stumbled': 2305, 'smoked': 2306, 'tightened': 2307, 'gut': 2308, 'heading': 2309, 'phoenix': 2310, 'big': 2311, 'cactus': 2312, 'rig': 2313, 'runs': 2314, 'memories': 2315, \"winter's\": 2316, 'tuning': 2317, 'pit': 2318, \"beggin'\": 2319, 'hated': 2320, 'choosing': 2321, 'desire': 2322, 'fatigue': 2323, 'commitment': 2324, 'unwired': 2325, 'beginning': 2326, 'situation': 2327, 'service': 2328, 'tourist': 2329, 'prefer': 2330, 'gentleman': 2331, 'embarrassed': 2332, 'odd': 2333, 'tiny': 2334, 'low': 2335, 'spade': 2336, 'lawyer': 2337, 'blow': 2338, 'missing': 2339, 'cutting': 2340, 'cord': 2341, 'spending': 2342, 'treasure': 2343, 'afford': 2344, 'sweetness': 2345, 'excuses': 2346, \"day's\": 2347, 'mouse': 2348, 'cat': 2349, 'crust': 2350, 'stared': 2351, 'changing': 2352, 'repair': 2353, 'rewarded': 2354, 'sainthood': 2355, 'rumors': 2356, 'virtue': 2357, 'silver': 2358, 'clothed': 2359, 'attack': 2360, 'stormed': 2361, 'casino': 2362, 'decided': 2363, 'fresh': 2364, 'bones': 2365, 'value': 2366, 'shadow': 2367, 'heavy': 2368, 'nakedness': 2369, 'unmanned': 2370, 'cries': 2371, 'stumbling': 2372, 'secrecy': 2373, 'torches': 2374, 'flare': 2375, 'inner': 2376, 'enter': 2377, 'passion': 2378, 'repast': 2379, 'grounds': 2380, 'dissolve': 2381, 'cast': 2382, 'earnestly': 2383, 'begun': 2384, 'inspired': 2385, 'shoulders': 2386, 'carried': 2387, 'daughter': 2388, 'son': 2389, 'decent': 2390, 'hip': 2391, 'wondering': 2392, 'sort': 2393, 'agreement': 2394, 'crisis': 2395, 'feather': 2396, 'swell': 2397, 'dances': 2398, 'shit': 2399, 'meeting': 2400, 'reading': 2401, 'marx': 2402, 'spread': 2403, 'spark': 2404, 'messiah': 2405, 'rivalry': 2406, 'viscious': 2407, 'charge': 2408, 'mark': 2409, 'revisit': 2410, 'selling': 2411, 'trinkets': 2412, 'dressing': 2413, 'pussy': 2414, 'panther': 2415, 'yard': 2416, 'gifted': 2417, 'friendly': 2418, 'witness': 2419, 'stunning': 2420, 'couple': 2421, 'part': 2422, 'subtle': 2423, \"angel's\": 2424, 'fiddle': 2425, 'harp': 2426, 'minnow': 2427, 'shark': 2428, 'scarred': 2429, 'claws': 2430, 'disregard': 2431, 'fable': 2432, 'lesson': 2433, 'meadowlark': 2434, 'guessing': 2435, 'convention': 2436, 'horse': 2437, 'cart': 2438, 'betting': 2439, 'ark': 2440, 'ending': 2441, 'handy': 2442, 'rifle': 2443, '303': 2444, 'final': 2445, 'disagree': 2446, 'moods': 2447, 'threatened': 2448, 'single': 2449, 'ruled': 2450, \"'twas\": 2451, 'hormonal': 2452, 'pulled': 2453}\n",
            "2454\n"
          ],
          "name": "stdout"
        }
      ]
    },
    {
      "cell_type": "code",
      "metadata": {
        "id": "-b8cWSjFM7dl"
      },
      "source": [
        "#CREATING TRAINING DATA\n",
        "\n",
        "input_sequences = []\n",
        "\n",
        "for line in corpus:\n",
        "  \n",
        "    #creating list of tokens for every line in corpus line by line\n",
        "\n",
        "    token_list = tokenizer.texts_to_sequences([line])[0]\n",
        "\n",
        "    #generating n-grams (\"you see these, this is what comes next\" word by word)\n",
        "\n",
        "    for i in range(1, len(token_list)):\n",
        "        n_gram_sequence = token_list[:i+1]\n",
        "        input_sequences.append(n_gram_sequence)\n",
        "    "
      ],
      "execution_count": 5,
      "outputs": []
    },
    {
      "cell_type": "code",
      "metadata": {
        "id": "yJKk4BX7NBFM"
      },
      "source": [
        "#PADDING SEQUENCES\n",
        "max_sequence_len = max([len(x) for x in input_sequences]) \n",
        "input_sequences = np.array(pad_sequences(input_sequences, maxlen = max_sequence_len, padding = 'pre')) "
      ],
      "execution_count": 6,
      "outputs": []
    },
    {
      "cell_type": "code",
      "metadata": {
        "id": "vWVs4wC8NHJ2"
      },
      "source": [
        "#ADDING FEATURES AND LABELS.\n",
        "\n",
        "#in the padded sequences everything but the last value is an x and the last value foms the label y.\n",
        "#E.g. [0 0 0 0 0 3 4 5]  {5 is a label and everything else is under x(feature)}\n",
        "\n",
        "xs = input_sequences[:,:-1]\n",
        "labels = input_sequences[:,-1]\n",
        "\n",
        "#converts class vector(labels) to a binary class matrix\n",
        "\n",
        "ys = tf.keras.utils.to_categorical(labels, num_classes = total_words)"
      ],
      "execution_count": 7,
      "outputs": []
    },
    {
      "cell_type": "code",
      "metadata": {
        "colab": {
          "base_uri": "https://localhost:8080/"
        },
        "id": "9GGp7m9GNa-c",
        "outputId": "ef6b1a16-520b-4bbe-ff0e-12e042798170"
      },
      "source": [
        "#TRAINING THE NEURAL NETWORK\n",
        "model = Sequential()\n",
        "model.add(Embedding(total_words, 240, input_length = max_sequence_len - 1))\n",
        "model.add(Bidirectional(LSTM(150)))\n",
        "model.add(Dense(total_words, activation = 'softmax'))\n",
        "adam = Adam(learning_rate=0.01)\n",
        "model.compile(loss='categorical_crossentropy', optimizer= adam, metrics=['accuracy'])\n",
        "history = model.fit(xs, ys, epochs = 100, verbose=1)"
      ],
      "execution_count": null,
      "outputs": [
        {
          "output_type": "stream",
          "text": [
            "Epoch 1/100\n",
            "419/556 [=====================>........] - ETA: 25s - loss: 5.9281 - accuracy: 0.1121"
          ],
          "name": "stdout"
        }
      ]
    },
    {
      "cell_type": "code",
      "metadata": {
        "id": "41yE1IwfNf0p"
      },
      "source": [
        "#Checking Accuracy (HOUSE-KEEPING)\n",
        "\n",
        "import matplotlib as plt\n",
        "\n",
        "def plot_graphs(history, string):\n",
        "    plt.plot(history.history[string])\n",
        "    plt.xlabel(\"Epochs\")\n",
        "    plt.ylabel(string)\n",
        "    plt.title(\"Accuracy Index\")\n",
        "    plt.show()\n",
        "\n",
        "plot_graphs(history, 'accuracy')"
      ],
      "execution_count": null,
      "outputs": []
    },
    {
      "cell_type": "code",
      "metadata": {
        "id": "oRmdP9g1Npv-"
      },
      "source": [
        "#GENERATING NEW TEXT\n",
        "\n",
        "#seed_text = input()\n",
        "#ideally the seed_text should be user input, it's cute, but this sppeds things up a bit.\n",
        "\n",
        "seed_text = 'I had you in my arms'\n",
        "next_words = 100\n",
        "\n",
        "for _ in range(next_words):\n",
        "    token_list = tokenizer.texts_to_sequences([seed_text])[0]\n",
        "    token_list = pad_sequences([token_list], maxlen= max_sequence_len - 1, padding = 'pre')\n",
        "    predicted = model.predict_classes(token_list, verbose = 0)\n",
        "    output_word = \"\"\n",
        "    for word, index in tokenizer.word_index.items():\n",
        "        if index == predicted:\n",
        "            output_word = word\n",
        "            break\n",
        "    seed_text += \" \" + output_word\n",
        "    print(seed_text)"
      ],
      "execution_count": null,
      "outputs": []
    }
  ]
}